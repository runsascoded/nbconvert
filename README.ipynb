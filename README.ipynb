{
 "cells": [
  {
   "cell_type": "markdown",
   "metadata": {},
   "source": [
    "# `nbconvert` GitHub Action\n",
    "Automatically convert `.ipynb` files in pull requests to Markdown (or other formats supported by [`nbconvert`])\n",
    "\n",
    "This repo uses itself to convert its README from an `.ipynb` to an `.md`; see [`.github/workflows/main.yml`](.github/workflows/main.yml):\n",
    "```yaml\n",
    "steps:\n",
    "- name: Check out repository\n",
    "  uses: actions/checkout@v2\n",
    "  with:\n",
    "    ref: ${{ github.head_ref }}\n",
    "\n",
    "- name: Add PR base ref\n",
    "  run: |\n",
    "    git fetch --depth=1 origin +refs/heads/${{github.base_ref}}:refs/remotes/origin/${{github.base_ref}}\n",
    "\n",
    "- name: nbconvert README\n",
    "  uses: runsascoded/nbconvert@v1.1\n",
    "```\n",
    "\n",
    "By default:\n",
    "- it converts `.ipynb` files to Markdown (`.md`)\n",
    "- it operates on any existing pairs of files with those extensions in the repo\n",
    "- if the `.ipynb` has changed during the pull request, the corresponding `.md` is regenerated (using [`nbconvert`])\n",
    "- if any `.md` files are changed, a commit is created, and pushed to the PR's branch\n",
    "\n",
    "Many of these behaviors are configurable; see [`convert.py`](convert.py) or run `convert.py -h` to view available options.\n",
    "\n",
    "\n",
    "[`nbconvert`]: https://nbconvert.readthedocs.io/en/latest/"
   ]
  },
  {
   "cell_type": "code",
   "execution_count": 1,
   "metadata": {},
   "outputs": [
    {
     "name": "stdout",
     "output_type": "stream",
     "text": [
      "usage: convert.py [-h] [-a] [-b BRANCH] [-e EMAIL] [-f] [-m REMOTE] [-o FMT]\n",
      "                  [-p REPOSITORY] [-r REVISION] [-t TOKEN] [-u USER]\n",
      "                  [path [path ...]]\n",
      "\n",
      "positional arguments:\n",
      "  path                  .ipynb paths to convert\n",
      "\n",
      "optional arguments:\n",
      "  -h, --help            show this help message and exit\n",
      "  -a, --all             Inspect all .ipynb files (by default, notebooks are\n",
      "                        only checked if they already have a counterpart in the\n",
      "                        target format checked in to the repo\n",
      "  -b BRANCH, --branch BRANCH\n",
      "                        Current Git branch (and push target for any changes;\n",
      "                        default: $GITHUB_HEAD_REF)\n",
      "  -e EMAIL, --email EMAIL\n",
      "                        user.email for Git commit\n",
      "  -f, --force           Run nbconvert on .ipynb files even if they don't seem\n",
      "                        changed since the base revision\n",
      "  -m REMOTE, --remote REMOTE\n",
      "                        Git remote to push changes to; defaults to the only\n",
      "                        git remote, where applicable\n",
      "  -o FMT, --fmt FMT     Format to convert files to (passed to nbconvert;\n",
      "                        default: markdown)\n",
      "  -p REPOSITORY, --repository REPOSITORY\n",
      "                        Git repository (org/repo) to push to (default:\n",
      "                        $GITHUB_REPOSITORY)\n",
      "  -r REVISION, --revision REVISION\n",
      "                        Git revision (or range) to compute diffs against\n",
      "                        (default: <remote>/$GITHUB_BASE_REF, where <remote> is\n",
      "                        the --remote flag value or its fallback Git remote\n",
      "  -t TOKEN, --token TOKEN\n",
      "                        Git access token for pushing changes\n",
      "  -u USER, --user USER  user.name for Git commit\n"
     ]
    }
   ],
   "source": [
    "%%bash\n",
    "convert.py -h"
   ]
  }
 ],
 "metadata": {
  "kernelspec": {
   "display_name": "3.8.2",
   "language": "python",
   "name": "3.8.2"
  },
  "language_info": {
   "codemirror_mode": {
    "name": "ipython",
    "version": 3
   },
   "file_extension": ".py",
   "mimetype": "text/x-python",
   "name": "python",
   "nbconvert_exporter": "python",
   "pygments_lexer": "ipython3",
   "version": "3.8.2"
  }
 },
 "nbformat": 4,
 "nbformat_minor": 2
}
