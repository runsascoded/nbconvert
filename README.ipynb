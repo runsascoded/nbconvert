{
 "cells": [
  {
   "cell_type": "markdown",
   "metadata": {},
   "source": [
    "# `nbconvert` GitHub Action\n",
    "Automatically convert `.ipynb` files in pull requests to Markdown (or other formats supported by [`nbconvert`])\n",
    "\n",
    "This repo uses itself to convert its README from an `.ipynb` to an `.md`; see [`.github/workflows/main.yml`](.github/workflows/main.yml):\n",
    "```yaml\n",
    "steps:\n",
    "- name: Check out repository\n",
    "  uses: actions/checkout@v2\n",
    "  with:\n",
    "    ref: ${{ github.head_ref }}\n",
    "\n",
    "- name: Add PR base ref\n",
    "  run: |\n",
    "    git fetch --depth=1 origin +refs/heads/${{github.base_ref}}:refs/remotes/origin/${{github.base_ref}}\n",
    "\n",
    "- name: nbconvert README\n",
    "  uses: runsascoded/nbconvert@v1.1\n",
    "```\n",
    "\n",
    "By default:\n",
    "- it converts `.ipynb` files to Markdown (`.md`)\n",
    "- it operates on any existing pairs of files with those extensions in the repo\n",
    "- if the `.ipynb` has changed during the pull request, the corresponding `.md` is regenerated (using [`nbconvert`])\n",
    "- if any `.md` files are changed, a commit is created, and pushed to the PR's branch\n",
    "\n",
    "Many of these behaviors are configurable; see [`convert.py`](convert.py) or run `convert.py -h` to view available options.\n",
    "\n",
    "\n",
    "[`nbconvert`]: https://nbconvert.readthedocs.io/en/latest/"
   ]
  },
  {
   "cell_type": "code",
   "execution_count": 1,
   "metadata": {},
   "outputs": [
    {
     "name": "stdout",
     "output_type": "stream",
     "text": [
      "usage: convert.py [-h] [-a] [-b BRANCH] [-e EMAIL] [-f] [-m REMOTE] [-o FMT]\r\n",
      "                  [-p REPOSITORY] [-r REVISION] [-t TOKEN] [-u USER]\r\n",
      "                  [path [path ...]]\r\n",
      "\r\n",
      "positional arguments:\r\n",
      "  path                  .ipynb paths to convert\r\n",
      "\r\n",
      "optional arguments:\r\n",
      "  -h, --help            show this help message and exit\r\n",
      "  -a, --all             Inspect all .ipynb files (by default, notebooks are\r\n",
      "                        only checked if they already have a counterpart in the\r\n",
      "                        target format checked in to the repo\r\n",
      "  -b BRANCH, --branch BRANCH\r\n",
      "                        Current Git branch (and push target for any changes;\r\n",
      "                        default: $GITHUB_HEAD_REF)\r\n",
      "  -e EMAIL, --email EMAIL\r\n",
      "                        user.email for Git commit\r\n",
      "  -f, --force           Run nbconvert on .ipynb files even if they don't seem\r\n",
      "                        changed since the base revision\r\n",
      "  -m REMOTE, --remote REMOTE\r\n",
      "                        Git remote to push changes to; defaults to the only\r\n",
      "                        git remote, where applicable\r\n",
      "  -o FMT, --fmt FMT     Format to convert files to (passed to nbconvert;\r\n",
      "                        default: markdown)\r\n",
      "  -p REPOSITORY, --repository REPOSITORY\r\n",
      "                        Git repository (org/repo) to push to (default:\r\n",
      "                        $GITHUB_REPOSITORY)\r\n",
      "  -r REVISION, --revision REVISION\r\n",
      "                        Git revision (or range) to compute diffs against\r\n",
      "                        (default: <remote>/$GITHUB_BASE_REF, where <remote> is\r\n",
      "                        the --remote flag value or its fallback Git remote\r\n",
      "  -t TOKEN, --token TOKEN\r\n",
      "                        Git access token for pushing changes\r\n",
      "  -u USER, --user USER  user.name for Git commit\r\n"
     ]
    }
   ],
   "source": [
    "!convert.py -h"
   ]
  }
 ],
 "metadata": {
  "kernelspec": {
   "display_name": "3.8.2",
   "language": "python",
   "name": "3.8.2"
  },
  "language_info": {
   "codemirror_mode": {
    "name": "ipython",
    "version": 3
   },
   "file_extension": ".py",
   "mimetype": "text/x-python",
   "name": "python",
   "nbconvert_exporter": "python",
   "pygments_lexer": "ipython3",
   "version": "3.8.2"
  }
 },
 "nbformat": 4,
 "nbformat_minor": 2
}
